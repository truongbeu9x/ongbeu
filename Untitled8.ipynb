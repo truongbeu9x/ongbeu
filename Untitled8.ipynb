{
  "nbformat": 4,
  "nbformat_minor": 0,
  "metadata": {
    "colab": {
      "name": "Untitled8.ipynb",
      "provenance": [],
      "include_colab_link": true
    },
    "kernelspec": {
      "name": "python3",
      "display_name": "Python 3"
    }
  },
  "cells": [
    {
      "cell_type": "markdown",
      "metadata": {
        "id": "view-in-github",
        "colab_type": "text"
      },
      "source": [
        "<a href=\"https://colab.research.google.com/github/truongbeu9x/ongbeu/blob/master/Untitled8.ipynb\" target=\"_parent\"><img src=\"https://colab.research.google.com/assets/colab-badge.svg\" alt=\"Open In Colab\"/></a>"
      ]
    },
    {
      "cell_type": "code",
      "metadata": {
        "id": "GIrIYTuTqJ64",
        "colab_type": "code",
        "colab": {
          "base_uri": "https://localhost:8080/",
          "height": 1000
        },
        "outputId": "ba01fd2f-63d9-4729-f504-f6651ae02328"
      },
      "source": [
        "help(\"modules\")"
      ],
      "execution_count": 1,
      "outputs": [
        {
          "output_type": "stream",
          "text": [
            "\n",
            "Please wait a moment while I gather a list of all available modules...\n",
            "\n"
          ],
          "name": "stdout"
        },
        {
          "output_type": "stream",
          "text": [
            "/usr/local/lib/python3.6/dist-packages/IPython/kernel/__init__.py:13: ShimWarning: The `IPython.kernel` package has been deprecated since IPython 4.0.You should import from ipykernel or jupyter_client instead.\n",
            "  \"You should import from ipykernel or jupyter_client instead.\", ShimWarning)\n"
          ],
          "name": "stderr"
        },
        {
          "output_type": "display_data",
          "data": {
            "application/javascript": [
              "window.genUID = function() {\n",
              "    return 'xxxxxxxx-xxxx-4xxx-yxxx-xxxxxxxxxxxx'.replace(/[xy]/g, function(c) {\n",
              "        var r = Math.random()*16|0, v = c == 'x' ? r : (r&0x3|0x8);\n",
              "        return v.toString(16);\n",
              "    });\n",
              "};\n",
              "\n",
              "\n",
              "define('graphWidget', [\"@jupyter-widgets/base\"], function (widget) {\n",
              "\n",
              "    var GraphView = widget.DOMWidgetView.extend({\n",
              "        render: function(){\n",
              "            var that = this;\n",
              "\n",
              "            var graphId = window.genUID();\n",
              "            var loadingId = 'loading-'+graphId;\n",
              "\n",
              "\n",
              "            var _graph_url = that.model.get('_graph_url');\n",
              "\n",
              "            // variable plotlyDomain in the case of enterprise\n",
              "            var url_parts = _graph_url.split('/');\n",
              "            var plotlyDomain = url_parts[0] + '//' + url_parts[2];\n",
              "\n",
              "            if(!('plotlyDomains' in window)){\n",
              "                window.plotlyDomains = {};\n",
              "            }\n",
              "            window.plotlyDomains[graphId] = plotlyDomain;\n",
              "\n",
              "            // Place IFrame in output cell div `$el`\n",
              "            that.$el.css('width', '100%');\n",
              "            that.$graph = $(['<iframe id=\"'+graphId+'\"',\n",
              "                             'src=\"'+_graph_url+'.embed\"',\n",
              "                             'seamless',\n",
              "                             'style=\"border: none;\"',\n",
              "                             'width=\"100%\"',\n",
              "                             'height=\"600\">',\n",
              "                             '</iframe>'].join(' '));\n",
              "            that.$graph.appendTo(that.$el);\n",
              "\n",
              "            that.$loading = $('<div id=\"'+loadingId+'\">Initializing...</div>')\n",
              "                            .appendTo(that.$el);\n",
              "\n",
              "            // for some reason the 'width' is being changed in IPython 3.0.0\n",
              "            // for the containing `div` element. There's a flicker here, but\n",
              "            // I was unable to fix it otherwise.\n",
              "            setTimeout(function ()  {\n",
              "                if (IPYTHON_VERSION === '3') {\n",
              "                    $('#' + graphId)[0].parentElement.style.width = '100%';\n",
              "                }\n",
              "            }, 500);\n",
              "\n",
              "            // initialize communication with the iframe\n",
              "            if(!('pingers' in window)){\n",
              "                window.pingers = {};\n",
              "            }\n",
              "\n",
              "            window.pingers[graphId] = setInterval(function() {\n",
              "                that.graphContentWindow = $('#'+graphId)[0].contentWindow;\n",
              "                that.graphContentWindow.postMessage({task: 'ping'}, plotlyDomain);\n",
              "            }, 200);\n",
              "\n",
              "            // Assign a message listener to the 'message' events\n",
              "            // from iframe's postMessage protocol.\n",
              "            // Filter the messages by iframe src so that the right message\n",
              "            // gets passed to the right widget\n",
              "            if(!('messageListeners' in window)){\n",
              "                 window.messageListeners = {};\n",
              "            }\n",
              "\n",
              "            window.messageListeners[graphId] = function(e) {\n",
              "                if(_graph_url.indexOf(e.origin)>-1) {\n",
              "                    var frame = document.getElementById(graphId);\n",
              "\n",
              "                    if(frame === null){\n",
              "                        // frame doesn't exist in the dom anymore, clean up it's old event listener\n",
              "                        window.removeEventListener('message', window.messageListeners[graphId]);\n",
              "                        clearInterval(window.pingers[graphId]);\n",
              "                    } else if(frame.contentWindow === e.source) {\n",
              "                        // TODO: Stop event propagation, so each frame doesn't listen and filter\n",
              "                        var frameContentWindow = $('#'+graphId)[0].contentWindow;\n",
              "                        var message = e.data;\n",
              "\n",
              "                        if('pong' in message && message.pong) {\n",
              "                            $('#loading-'+graphId).hide();\n",
              "                            clearInterval(window.pingers[graphId]);\n",
              "                            that.send({event: 'pong', graphId: graphId});\n",
              "                        } else if (message.type==='hover' ||\n",
              "                                   message.type==='zoom'  ||\n",
              "                                   message.type==='click' ||\n",
              "                                   message.type==='unhover') {\n",
              "\n",
              "                            // click and hover events contain all of the data in the traces,\n",
              "                            // which can be a very large object and may take a ton of time\n",
              "                            // to pass to the python backend. Strip out the data, and require\n",
              "                            // the user to call get_figure if they need trace information\n",
              "                            if(message.type !== 'zoom') {\n",
              "                                for(var i in message.points) {\n",
              "                                    delete message.points[i].data;\n",
              "                                    delete message.points[i].fullData;\n",
              "                                }\n",
              "                            }\n",
              "                            that.send({event: message.type, message: message, graphId: graphId});\n",
              "                        } else if (message.task === 'getAttributes') {\n",
              "                            that.send({event: 'getAttributes', response: message.response});\n",
              "                        }\n",
              "                    }\n",
              "                }\n",
              "            };\n",
              "\n",
              "            window.removeEventListener('message', window.messageListeners[graphId]);\n",
              "            window.addEventListener('message', window.messageListeners[graphId]);\n",
              "\n",
              "        },\n",
              "\n",
              "        update: function() {\n",
              "            // Listen for messages from the graph widget in python\n",
              "            var jmessage = this.model.get('_message');\n",
              "            var message = JSON.parse(jmessage);\n",
              "\n",
              "            // check for duplicate messages\n",
              "            if(!('messageIds' in window)){\n",
              "                window.messageIds = {};\n",
              "            }\n",
              "\n",
              "            if(!(message.uid in window.messageIds)){\n",
              "                // message hasn't been received yet, do stuff\n",
              "                window.messageIds[message.uid] = true;\n",
              "\n",
              "                if (message.fadeTo) {\n",
              "                    this.fadeTo(message);\n",
              "                } else {\n",
              "                    var plot = $('#' + message.graphId)[0].contentWindow;\n",
              "                    plot.postMessage(message, window.plotlyDomains[message.graphId]);\n",
              "                }\n",
              "            }\n",
              "\n",
              "            return GraphView.__super__.update.apply(this);\n",
              "        },\n",
              "\n",
              "        /**\n",
              "         * Wrapper for jquery's `fadeTo` function.\n",
              "         *\n",
              "         * @param message Contains the id we need to find the element.\n",
              "         */\n",
              "        fadeTo: function (message) {\n",
              "            var plot = $('#' + message.graphId);\n",
              "            plot.fadeTo(message.duration, message.opacity);\n",
              "        }\n",
              "    });\n",
              "\n",
              "    // Register the GraphView with the widget manager.\n",
              "    return {\n",
              "        GraphView: GraphView\n",
              "    }\n",
              "\n",
              "});\n",
              "\n",
              "//@ sourceURL=graphWidget.js\n"
            ],
            "text/plain": [
              "<IPython.core.display.Javascript object>"
            ]
          },
          "metadata": {
            "tags": []
          }
        },
        {
          "output_type": "stream",
          "text": [
            "/usr/local/lib/python3.6/dist-packages/psycopg2/__init__.py:144: UserWarning:\n",
            "\n",
            "The psycopg2 wheel package will be renamed from release 2.8; in order to keep installing from binary please use \"pip install psycopg2-binary\" instead. For details see: <http://initd.org/psycopg/docs/install.html#binary-install-from-pypi>.\n",
            "\n",
            "/usr/local/lib/python3.6/dist-packages/sklearn/externals/six.py:31: FutureWarning:\n",
            "\n",
            "The module is deprecated in version 0.21 and will be removed in version 0.23 since we've dropped support for Python 2.7. Please rely on the official version of six (https://pypi.org/project/six/).\n",
            "\n",
            "Using TensorFlow backend.\n"
          ],
          "name": "stderr"
        },
        {
          "output_type": "display_data",
          "data": {
            "text/html": [
              "<p style=\"color: red;\">\n",
              "The default version of TensorFlow in Colab will soon switch to TensorFlow 2.x.<br>\n",
              "We recommend you <a href=\"https://www.tensorflow.org/guide/migrate\" target=\"_blank\">upgrade</a> now \n",
              "or ensure your notebook will continue to use TensorFlow 1.x via the <code>%tensorflow_version 1.x</code> magic:\n",
              "<a href=\"https://colab.research.google.com/notebooks/tensorflow_version.ipynb\" target=\"_blank\">more info</a>.</p>\n"
            ],
            "text/plain": [
              "<IPython.core.display.HTML object>"
            ]
          },
          "metadata": {
            "tags": []
          }
        },
        {
          "output_type": "stream",
          "text": [
            "INFO:summarizer.preprocessing.cleaner:'pattern' package not found; tag filters are not available for English\n"
          ],
          "name": "stderr"
        },
        {
          "output_type": "stream",
          "text": [
            "WARNING:tensorflow:From /usr/local/lib/python3.6/dist-packages/sonnet/python/modules/util.py:63: The name tf.GraphKeys is deprecated. Please use tf.compat.v1.GraphKeys instead.\n",
            "\n"
          ],
          "name": "stdout"
        },
        {
          "output_type": "stream",
          "text": [
            "WARNING:tensorflow:From /usr/local/lib/python3.6/dist-packages/sonnet/python/modules/util.py:63: The name tf.GraphKeys is deprecated. Please use tf.compat.v1.GraphKeys instead.\n",
            "\n"
          ],
          "name": "stderr"
        },
        {
          "output_type": "stream",
          "text": [
            "WARNING:tensorflow:\n",
            "The TensorFlow contrib module will not be included in TensorFlow 2.0.\n",
            "For more information, please see:\n",
            "  * https://github.com/tensorflow/community/blob/master/rfcs/20180907-contrib-sunset.md\n",
            "  * https://github.com/tensorflow/addons\n",
            "  * https://github.com/tensorflow/io (for I/O related ops)\n",
            "If you depend on functionality not listed there, please file an issue.\n",
            "\n"
          ],
          "name": "stdout"
        },
        {
          "output_type": "stream",
          "text": [
            "WARNING:tensorflow:\n",
            "The TensorFlow contrib module will not be included in TensorFlow 2.0.\n",
            "For more information, please see:\n",
            "  * https://github.com/tensorflow/community/blob/master/rfcs/20180907-contrib-sunset.md\n",
            "  * https://github.com/tensorflow/addons\n",
            "  * https://github.com/tensorflow/io (for I/O related ops)\n",
            "If you depend on functionality not listed there, please file an issue.\n",
            "\n",
            "/usr/local/lib/python3.6/dist-packages/sklearn/utils/deprecation.py:144: FutureWarning:\n",
            "\n",
            "The sklearn.neighbors.base module is  deprecated in version 0.22 and will be removed in version 0.24. The corresponding classes / functions should instead be imported from sklearn.neighbors. Anything that cannot be imported from sklearn.neighbors is now part of the private API.\n",
            "\n",
            "/usr/local/lib/python3.6/dist-packages/sklearn/utils/deprecation.py:144: FutureWarning:\n",
            "\n",
            "The sklearn.datasets.base module is  deprecated in version 0.22 and will be removed in version 0.24. The corresponding classes / functions should instead be imported from sklearn.datasets. Anything that cannot be imported from sklearn.datasets is now part of the private API.\n",
            "\n",
            "/usr/local/lib/python3.6/dist-packages/sklearn/utils/deprecation.py:144: FutureWarning:\n",
            "\n",
            "The sklearn.ensemble.bagging module is  deprecated in version 0.22 and will be removed in version 0.24. The corresponding classes / functions should instead be imported from sklearn.ensemble. Anything that cannot be imported from sklearn.ensemble is now part of the private API.\n",
            "\n",
            "/usr/local/lib/python3.6/dist-packages/sklearn/utils/deprecation.py:144: FutureWarning:\n",
            "\n",
            "The sklearn.ensemble.base module is  deprecated in version 0.22 and will be removed in version 0.24. The corresponding classes / functions should instead be imported from sklearn.ensemble. Anything that cannot be imported from sklearn.ensemble is now part of the private API.\n",
            "\n",
            "/usr/local/lib/python3.6/dist-packages/sklearn/utils/deprecation.py:144: FutureWarning:\n",
            "\n",
            "The sklearn.ensemble.forest module is  deprecated in version 0.22 and will be removed in version 0.24. The corresponding classes / functions should instead be imported from sklearn.ensemble. Anything that cannot be imported from sklearn.ensemble is now part of the private API.\n",
            "\n",
            "/usr/local/lib/python3.6/dist-packages/sklearn/externals/joblib/__init__.py:15: FutureWarning:\n",
            "\n",
            "sklearn.externals.joblib is deprecated in 0.21 and will be removed in 0.23. Please import this functionality directly from joblib, which can be installed with: pip install joblib. If this warning is raised when loading pickled models, you may need to re-serialize those models with scikit-learn 0.21+.\n",
            "\n",
            "/usr/local/lib/python3.6/dist-packages/sklearn/utils/deprecation.py:144: FutureWarning:\n",
            "\n",
            "The sklearn.utils.testing module is  deprecated in version 0.22 and will be removed in version 0.24. The corresponding classes / functions should instead be imported from sklearn.utils. Anything that cannot be imported from sklearn.utils is now part of the private API.\n",
            "\n",
            "/usr/local/lib/python3.6/dist-packages/sklearn/utils/deprecation.py:144: FutureWarning:\n",
            "\n",
            "The sklearn.metrics.classification module is  deprecated in version 0.22 and will be removed in version 0.24. The corresponding classes / functions should instead be imported from sklearn.metrics. Anything that cannot be imported from sklearn.metrics is now part of the private API.\n",
            "\n"
          ],
          "name": "stderr"
        },
        {
          "output_type": "stream",
          "text": [
            "WARNING:tensorflow:From /usr/local/lib/python3.6/dist-packages/kfac/python/ops/utils.py:38: The name tf.assign is deprecated. Please use tf.compat.v1.assign instead.\n",
            "\n"
          ],
          "name": "stdout"
        },
        {
          "output_type": "stream",
          "text": [
            "WARNING:tensorflow:From /usr/local/lib/python3.6/dist-packages/kfac/python/ops/utils.py:38: The name tf.assign is deprecated. Please use tf.compat.v1.assign instead.\n",
            "\n"
          ],
          "name": "stderr"
        },
        {
          "output_type": "stream",
          "text": [
            "WARNING:tensorflow:From /usr/local/lib/python3.6/dist-packages/kfac/python/ops/optimizer.py:48: The name tf.train.GradientDescentOptimizer is deprecated. Please use tf.compat.v1.train.GradientDescentOptimizer instead.\n",
            "\n"
          ],
          "name": "stdout"
        },
        {
          "output_type": "stream",
          "text": [
            "WARNING:tensorflow:From /usr/local/lib/python3.6/dist-packages/kfac/python/ops/optimizer.py:48: The name tf.train.GradientDescentOptimizer is deprecated. Please use tf.compat.v1.train.GradientDescentOptimizer instead.\n",
            "\n"
          ],
          "name": "stderr"
        },
        {
          "output_type": "stream",
          "text": [
            "WARNING:tensorflow:From /usr/local/lib/python3.6/dist-packages/kfac/python/ops/optimizer.py:526: The name tf.train.Optimizer is deprecated. Please use tf.compat.v1.train.Optimizer instead.\n",
            "\n"
          ],
          "name": "stdout"
        },
        {
          "output_type": "stream",
          "text": [
            "WARNING:tensorflow:From /usr/local/lib/python3.6/dist-packages/kfac/python/ops/optimizer.py:526: The name tf.train.Optimizer is deprecated. Please use tf.compat.v1.train.Optimizer instead.\n",
            "\n"
          ],
          "name": "stderr"
        },
        {
          "output_type": "stream",
          "text": [
            "WARNING:tensorflow:From /usr/local/lib/python3.6/dist-packages/magenta/pipelines/statistics.py:131: The name tf.logging.info is deprecated. Please use tf.compat.v1.logging.info instead.\n",
            "\n"
          ],
          "name": "stdout"
        },
        {
          "output_type": "stream",
          "text": [
            "WARNING:tensorflow:From /usr/local/lib/python3.6/dist-packages/magenta/pipelines/statistics.py:131: The name tf.logging.info is deprecated. Please use tf.compat.v1.logging.info instead.\n",
            "\n"
          ],
          "name": "stderr"
        },
        {
          "output_type": "stream",
          "text": [
            "WARNING:tensorflow:From /usr/local/lib/python3.6/dist-packages/magenta/music/note_sequence_io.py:60: The name tf.python_io.TFRecordWriter is deprecated. Please use tf.io.TFRecordWriter instead.\n",
            "\n"
          ],
          "name": "stdout"
        },
        {
          "output_type": "stream",
          "text": [
            "WARNING:tensorflow:From /usr/local/lib/python3.6/dist-packages/magenta/music/note_sequence_io.py:60: The name tf.python_io.TFRecordWriter is deprecated. Please use tf.io.TFRecordWriter instead.\n",
            "\n"
          ],
          "name": "stderr"
        },
        {
          "output_type": "stream",
          "text": [
            "Downloading http://dlib.net/files/shape_predictor_68_face_landmarks.dat.bz2 to /root/mlxtend_data/shape_predictor_68_face_landmarks.dat.bz2\n"
          ],
          "name": "stdout"
        },
        {
          "output_type": "stream",
          "text": [
            "/usr/lib/python3.6/pkgutil.py:92: UserWarning:\n",
            "\n",
            "The DICOM readers are highly experimental, unstable, and only work for Siemens time-series at the moment\n",
            "Please use with caution.  We would be grateful for your help in improving them\n",
            "\n",
            "/usr/local/lib/python3.6/dist-packages/nltk/twitter/__init__.py:20: UserWarning:\n",
            "\n",
            "The twython library has not been installed. Some functionality from the twitter package will not be available.\n",
            "\n",
            "Exception ignored in: <_io.FileIO name='/usr/local/lib/python3.6/dist-packages/theano/gof/c_code/lazylinker_c.c' mode='rb' closefd=True>\n",
            "ResourceWarning: unclosed file <_io.TextIOWrapper name='/usr/local/lib/python3.6/dist-packages/theano/gof/c_code/lazylinker_c.c' mode='r' encoding='UTF-8'>\n",
            "WARNING:pystan:This submodule contains experimental code, please use with caution\n",
            "INFO:absl:Entry Point [tensor2tensor.envs.tic_tac_toe_env:TicTacToeEnv] registered with id [T2TEnv-TicTacToeEnv-v0]\n"
          ],
          "name": "stderr"
        },
        {
          "output_type": "stream",
          "text": [
            "WARNING:tensorflow:From /usr/local/lib/python3.6/dist-packages/tensor2tensor/utils/multistep_optimizer.py:32: The name tf.train.AdamOptimizer is deprecated. Please use tf.compat.v1.train.AdamOptimizer instead.\n",
            "\n"
          ],
          "name": "stdout"
        },
        {
          "output_type": "stream",
          "text": [
            "WARNING:tensorflow:From /usr/local/lib/python3.6/dist-packages/tensor2tensor/utils/multistep_optimizer.py:32: The name tf.train.AdamOptimizer is deprecated. Please use tf.compat.v1.train.AdamOptimizer instead.\n",
            "\n"
          ],
          "name": "stderr"
        },
        {
          "output_type": "stream",
          "text": [
            "WARNING:tensorflow:From /usr/local/lib/python3.6/dist-packages/tensor2tensor/models/research/glow_init_hook.py:25: The name tf.train.SessionRunHook is deprecated. Please use tf.estimator.SessionRunHook instead.\n",
            "\n"
          ],
          "name": "stdout"
        },
        {
          "output_type": "stream",
          "text": [
            "WARNING:tensorflow:From /usr/local/lib/python3.6/dist-packages/tensor2tensor/models/research/glow_init_hook.py:25: The name tf.train.SessionRunHook is deprecated. Please use tf.estimator.SessionRunHook instead.\n",
            "\n"
          ],
          "name": "stderr"
        },
        {
          "output_type": "stream",
          "text": [
            "WARNING:tensorflow:From /usr/local/lib/python3.6/dist-packages/tensor2tensor/models/research/neural_stack.py:51: The name tf.nn.rnn_cell.RNNCell is deprecated. Please use tf.compat.v1.nn.rnn_cell.RNNCell instead.\n",
            "\n"
          ],
          "name": "stdout"
        },
        {
          "output_type": "stream",
          "text": [
            "WARNING:tensorflow:From /usr/local/lib/python3.6/dist-packages/tensor2tensor/models/research/neural_stack.py:51: The name tf.nn.rnn_cell.RNNCell is deprecated. Please use tf.compat.v1.nn.rnn_cell.RNNCell instead.\n",
            "\n"
          ],
          "name": "stderr"
        },
        {
          "output_type": "stream",
          "text": [
            "WARNING:tensorflow:From /usr/local/lib/python3.6/dist-packages/tensor2tensor/utils/trainer_lib.py:111: The name tf.OptimizerOptions is deprecated. Please use tf.compat.v1.OptimizerOptions instead.\n",
            "\n"
          ],
          "name": "stdout"
        },
        {
          "output_type": "stream",
          "text": [
            "WARNING:tensorflow:From /usr/local/lib/python3.6/dist-packages/tensor2tensor/utils/trainer_lib.py:111: The name tf.OptimizerOptions is deprecated. Please use tf.compat.v1.OptimizerOptions instead.\n",
            "\n"
          ],
          "name": "stderr"
        },
        {
          "output_type": "stream",
          "text": [
            "WARNING:tensorflow:From /usr/local/lib/python3.6/dist-packages/tflearn/helpers/summarizer.py:9: The name tf.summary.merge is deprecated. Please use tf.compat.v1.summary.merge instead.\n",
            "\n"
          ],
          "name": "stdout"
        },
        {
          "output_type": "stream",
          "text": [
            "WARNING:tensorflow:From /usr/local/lib/python3.6/dist-packages/tflearn/helpers/summarizer.py:9: The name tf.summary.merge is deprecated. Please use tf.compat.v1.summary.merge instead.\n",
            "\n"
          ],
          "name": "stderr"
        },
        {
          "output_type": "stream",
          "text": [
            "WARNING:tensorflow:From /usr/local/lib/python3.6/dist-packages/tflearn/helpers/trainer.py:25: The name tf.summary.FileWriter is deprecated. Please use tf.compat.v1.summary.FileWriter instead.\n",
            "\n"
          ],
          "name": "stdout"
        },
        {
          "output_type": "stream",
          "text": [
            "WARNING:tensorflow:From /usr/local/lib/python3.6/dist-packages/tflearn/helpers/trainer.py:25: The name tf.summary.FileWriter is deprecated. Please use tf.compat.v1.summary.FileWriter instead.\n",
            "\n"
          ],
          "name": "stderr"
        },
        {
          "output_type": "stream",
          "text": [
            "WARNING:tensorflow:From /usr/local/lib/python3.6/dist-packages/tflearn/config.py:123: The name tf.get_collection is deprecated. Please use tf.compat.v1.get_collection instead.\n",
            "\n"
          ],
          "name": "stdout"
        },
        {
          "output_type": "stream",
          "text": [
            "WARNING:tensorflow:From /usr/local/lib/python3.6/dist-packages/tflearn/config.py:123: The name tf.get_collection is deprecated. Please use tf.compat.v1.get_collection instead.\n",
            "\n"
          ],
          "name": "stderr"
        },
        {
          "output_type": "stream",
          "text": [
            "WARNING:tensorflow:From /usr/local/lib/python3.6/dist-packages/tflearn/config.py:129: The name tf.add_to_collection is deprecated. Please use tf.compat.v1.add_to_collection instead.\n",
            "\n"
          ],
          "name": "stdout"
        },
        {
          "output_type": "stream",
          "text": [
            "WARNING:tensorflow:From /usr/local/lib/python3.6/dist-packages/tflearn/config.py:129: The name tf.add_to_collection is deprecated. Please use tf.compat.v1.add_to_collection instead.\n",
            "\n"
          ],
          "name": "stderr"
        },
        {
          "output_type": "stream",
          "text": [
            "Cython              contextlib2         lib2to3             requests_oauthlib\n",
            "IPython             convertdate         libfuturize         resampy\n",
            "OpenGL              copy                libpasteurize       resource\n",
            "PIL                 copyreg             librosa             retrying\n",
            "ScreenResolution    coverage            lightgbm            rlcompleter\n",
            "__future__          coveralls           linecache           rmagic\n",
            "_ast                crcmod              llvmlite            rpy2\n",
            "_asyncio            crypt               lmdb                rsa\n",
            "_bisect             csv                 locale              rtmidi\n",
            "_blake2             ctypes              logging             runpy\n",
            "_bootlocale         cufflinks           lsb_release         s3fs\n",
            "_bz2                curses              lucid               s3transfer\n",
            "_cffi_backend       cv2                 lunardate           sched\n",
            "_codecs             cvxopt              lxml                scipy\n",
            "_codecs_cn          cvxpy               lzma                scs\n",
            "_codecs_hk          cycler              macpath             seaborn\n",
            "_codecs_iso2022     cymem               macurl2path         secrets\n",
            "_codecs_jp          cython              magenta             select\n",
            "_codecs_kr          cythonmagic         mailbox             selectors\n",
            "_codecs_tw          daft                mailcap             semantic_version\n",
            "_collections        dask                markdown            send2trash\n",
            "_collections_abc    dataclasses         markupsafe          setuptools\n",
            "_compat_pickle      datascience         marshal             setuptools_git\n",
            "_compression        datetime            math                shapely\n",
            "_crypt              dateutil            matplotlib          shelve\n",
            "_csv                dbm                 matplotlib_venn     shlex\n",
            "_ctypes             dbus                mesh_tensorflow     shutil\n",
            "_ctypes_test        decimal             mido                signal\n",
            "_curses             decorator           mimetypes           simplegeneric\n",
            "_curses_panel       defusedxml          mir_eval            site\n",
            "_cvxcore            descartes           missingno           sitecustomize\n",
            "_datetime           difflib             mistune             six\n",
            "_dbm                dill                mizani              skimage\n",
            "_dbus_bindings      dis                 mlxtend             sklearn\n",
            "_dbus_glib_bindings distributed         mmap                sklearn_pandas\n",
            "_decimal            distutils           modulefinder        slugify\n",
            "_dummy_thread       django              more_itertools      smart_open\n",
            "_ecos               dlib                moviepy             smtpd\n",
            "_elementtree        docopt              mpi4py              smtplib\n",
            "_functools          docs                mpmath              sndhdr\n",
            "_hashlib            doctest             msgpack             snowballstemmer\n",
            "_heapq              docutils            multiprocess        socket\n",
            "_imp                dopamine            multiprocessing     socketserver\n",
            "_io                 dot_parser          multitasking        socks\n",
            "_json               dummy_threading     murmurhash          sockshandler\n",
            "_locale             easy_install        music21             softwareproperties\n",
            "_lsprof             easydict            natsort             sonnet\n",
            "_lzma               ecos                nbconvert           sortedcontainers\n",
            "_markupbase         editdistance        nbformat            spacy\n",
            "_md5                ee                  netrc               sphinx\n",
            "_multibytecodec     email               networkx            spwd\n",
            "_multiprocess       en_core_web_sm      nibabel             sql\n",
            "_multiprocessing    encodings           nis                 sqlalchemy\n",
            "_opcode             entrypoints         nisext              sqlite3\n",
            "_operator           enum                nltk                sqlparse\n",
            "_osx_support        errno               nntplib             sre_compile\n",
            "_pickle             et_xmlfile          notebook            sre_constants\n",
            "_plotly_future_     examples            np_utils            sre_parse\n",
            "_plotly_utils       fa2                 ntpath              srsly\n",
            "_posixsubprocess    fancyimpute         nturl2path          ssl\n",
            "_pydecimal          fastai              numba               stable_baselines\n",
            "_pyio               fastcache           numbers             stat\n",
            "_pyrsistent_version fastdtw             numexpr             statistics\n",
            "_pytest             fastprogress        numpy               statsmodels\n",
            "_random             fastrlock           nvidia_smi          storemagic\n",
            "_scs_direct         faulthandler        oauth2client        string\n",
            "_scs_indirect       fbprophet           oauthlib            stringprep\n",
            "_scs_python         fcntl               ogr                 struct\n",
            "_sha1               feather             okgrade             subprocess\n",
            "_sha256             featuretools        opcode              sunau\n",
            "_sha3               filecmp             openpyxl            symbol\n",
            "_sha512             fileinput           operator            sympy\n",
            "_signal             filelock            opt_einsum          sympyprinting\n",
            "_sitebuiltins       fix_yahoo_finance   optparse            symtable\n",
            "_socket             flask               os                  sys\n",
            "_sqlite3            fnmatch             osgeo               sysconfig\n",
            "_sre                folium              osqp                syslog\n",
            "_ssl                formatter           osqppurepy          tables\n",
            "_stat               fractions           osr                 tabnanny\n",
            "_string             fsspec              ossaudiodev         tabulate\n",
            "_strptime           ftplib              packaging           tarfile\n",
            "_struct             functools           palettable          tblib\n",
            "_symtable           future              pandas              telnetlib\n",
            "_sysconfigdata_m_linux_x86_64-linux-gnu gast                pandas_datareader   tempfile\n",
            "_testbuffer         gc                  pandas_gbq          tensor2tensor\n",
            "_testcapi           gdal                pandas_profiling    tensorboard\n",
            "_testimportmultiple gdalconst           pandocfilters       tensorboardcolab\n",
            "_testmultiphase     gdalnumeric         parser              tensorflow\n",
            "_thread             gdown               parso               tensorflow_core\n",
            "_threading_local    genericpath         past                tensorflow_datasets\n",
            "_tkinter            gensim              pasta               tensorflow_estimator\n",
            "_tracemalloc        geographiclib       pathlib             tensorflow_gan\n",
            "_warnings           geopy               patsy               tensorflow_hub\n",
            "_weakref            getopt              pdb                 tensorflow_metadata\n",
            "_weakrefset         getpass             pexpect             tensorflow_privacy\n",
            "abc                 gettext             pickle              tensorflow_probability\n",
            "absl                gevent              pickleshare         termcolor\n",
            "aifc                gi                  pickletools         terminado\n",
            "alabaster           gin                 pip                 termios\n",
            "albumentations      github2pypi         pipes               test\n",
            "altair              glob                piptools            test_png\n",
            "antigravity         glob2               pkg_resources       testpath\n",
            "apiclient           gnm                 pkgutil             tests\n",
            "apt                 google_auth_httplib2 plac                text_unidecode\n",
            "apt_inst            google_auth_oauthlib plac_core           textblob\n",
            "apt_pkg             google_drive_downloader plac_ext            textgenrnn\n",
            "aptsources          googleapiclient     plac_tk             textwrap\n",
            "argparse            googlesearch        platform            tflearn\n",
            "array               graph_nets          plistlib            theano\n",
            "asgiref             graphviz            plotly              thinc\n",
            "ast                 greenlet            plotlywidget        this\n",
            "astor               gridfs              plotnine            threading\n",
            "astropy             grp                 pluggy              time\n",
            "asynchat            grpc                png                 timeit\n",
            "asyncio             gspread             pngsuite            tkinter\n",
            "asyncore            gspread_dataframe   poplib              tlz\n",
            "atari_py            gunicorn            portpicker          token\n",
            "atexit              gym                 posix               tokenize\n",
            "atomicwrites        gzip                posixpath           toolz\n",
            "attr                h5py                pprint              torch\n",
            "audioop             hashlib             prefetch_generator  torchsummary\n",
            "audioread           heapdict            preshed             torchtext\n",
            "autograd            heapq               pretty_midi         torchvision\n",
            "autoreload          hmac                prettytable         tornado\n",
            "babel               holidays            profile             tqdm\n",
            "backcall            html                progressbar         trace\n",
            "backports           html5lib            prometheus_client   traceback\n",
            "base64              http                promise             tracemalloc\n",
            "bdb                 httpimport          prompt_toolkit      traitlets\n",
            "bin                 httplib2            pstats              tty\n",
            "binascii            humanize            psutil              turtle\n",
            "binhex              hyperopt            psycopg2            tweepy\n",
            "bisect              ideep4py            pty                 types\n",
            "bleach              idna                ptyprocess          typing\n",
            "blis                image               pvectorc            typing_extensions\n",
            "bokeh               imageio             pwd                 tzlocal\n",
            "boost               imagesize           py                  umap\n",
            "boto                imaplib             py_compile          unicodedata\n",
            "boto3               imblearn            pyarrow             unittest\n",
            "botocore            imgaug              pyasn1              uritemplate\n",
            "bottleneck          imghdr              pyasn1_modules      urllib\n",
            "branca              imp                 pyclbr              urllib3\n",
            "bs4                 importlib           pycocotools         uu\n",
            "bson                importlib_metadata  pycparser           uuid\n",
            "builtins            imutils             pydata_google_auth  vega_datasets\n",
            "bz2                 inflect             pydoc               venv\n",
            "bz2file             inspect             pydoc_data          vis\n",
            "cProfile            intervaltree        pydot               warnings\n",
            "cachetools          io                  pydot_ng            wasabi\n",
            "caffe2              ipaddress           pydotplus           wave\n",
            "calendar            ipykernel           pydrive             wcwidth\n",
            "certifi             ipykernel_launcher  pyemd               weakref\n",
            "cffi                ipython_genutils    pyexpat             webbrowser\n",
            "cgi                 ipywidgets          pyglet              webencodings\n",
            "cgitb               itertools           pygments            werkzeug\n",
            "chainer             itsdangerous        pygtkcompat         wheel\n",
            "chainermn           jax                 pylab               widgetsnbextension\n",
            "chainerx            jaxlib              pymc3               wordcloud\n",
            "chardet             jdcal               pymeeus             wrapt\n",
            "chart_studio        jedi                pymongo             wsgiref\n",
            "chess               jieba               pymystem3           xarray\n",
            "chunk               jinja2              pynvml              xdrlib\n",
            "click               jmespath            pyparsing           xgboost\n",
            "client              joblib              pyrsistent          xkit\n",
            "cloudpickle         jpeg4py             pysndfile           xlrd\n",
            "cmake               json                pystan              xlwt\n",
            "cmath               jsonschema          pytest              xml\n",
            "cmd                 jupyter             python_utils        xmlrpc\n",
            "code                jupyter_client      pytz                xxlimited\n",
            "codecs              jupyter_console     pywt                xxsubtype\n",
            "codeop              jupyter_core        pyximport           yaml\n",
            "colab               kaggle              qtconsole           yellowbrick\n",
            "collections         kapre               queue               zict\n",
            "colorlover          keras               quopri              zipapp\n",
            "colorsys            keras_applications  random              zipfile\n",
            "community           keras_preprocessing re                  zipimport\n",
            "compileall          keyword             readline            zipp\n",
            "concurrent          kfac                regex               zlib\n",
            "configparser        kiwisolver          reprlib             zmq\n",
            "contextlib          knnimpute           requests            \n",
            "\n",
            "Enter any module name to get more help.  Or, type \"modules spam\" to search\n",
            "for modules whose name or summary contain the string \"spam\".\n",
            "\n"
          ],
          "name": "stdout"
        }
      ]
    },
    {
      "cell_type": "code",
      "metadata": {
        "id": "TBBtCB1VrfUp",
        "colab_type": "code",
        "colab": {
          "base_uri": "https://localhost:8080/",
          "height": 34
        },
        "outputId": "8f43f494-d406-4afe-9225-325aa86ef0ff"
      },
      "source": [
        "import math\n",
        "math.cos(math.pi)"
      ],
      "execution_count": 2,
      "outputs": [
        {
          "output_type": "execute_result",
          "data": {
            "text/plain": [
              "-1.0"
            ]
          },
          "metadata": {
            "tags": []
          },
          "execution_count": 2
        }
      ]
    },
    {
      "cell_type": "code",
      "metadata": {
        "id": "PoMHqIfPrp-m",
        "colab_type": "code",
        "colab": {
          "base_uri": "https://localhost:8080/",
          "height": 34
        },
        "outputId": "cefb6493-e5dd-4be4-8133-75334333e500"
      },
      "source": [
        "import numpy as np\n",
        "np.cos(np.pi)"
      ],
      "execution_count": 3,
      "outputs": [
        {
          "output_type": "execute_result",
          "data": {
            "text/plain": [
              "-1.0"
            ]
          },
          "metadata": {
            "tags": []
          },
          "execution_count": 3
        }
      ]
    },
    {
      "cell_type": "code",
      "metadata": {
        "id": "XO2U0Kq5sADE",
        "colab_type": "code",
        "colab": {
          "base_uri": "https://localhost:8080/",
          "height": 34
        },
        "outputId": "13f661c8-2fdf-4157-af3a-fb9a515536f7"
      },
      "source": [
        "from math import cos,pi\n",
        "cos(pi)"
      ],
      "execution_count": 6,
      "outputs": [
        {
          "output_type": "execute_result",
          "data": {
            "text/plain": [
              "-1.0"
            ]
          },
          "metadata": {
            "tags": []
          },
          "execution_count": 6
        }
      ]
    },
    {
      "cell_type": "code",
      "metadata": {
        "id": "JJO6eIVisaVF",
        "colab_type": "code",
        "colab": {
          "base_uri": "https://localhost:8080/",
          "height": 34
        },
        "outputId": "d224d85c-ca67-4c29-a95b-976940e1bea5"
      },
      "source": [
        "from math import *\n",
        "sin(pi)**2+cos(pi)**2"
      ],
      "execution_count": 7,
      "outputs": [
        {
          "output_type": "execute_result",
          "data": {
            "text/plain": [
              "1.0"
            ]
          },
          "metadata": {
            "tags": []
          },
          "execution_count": 7
        }
      ]
    },
    {
      "cell_type": "code",
      "metadata": {
        "id": "5NiVCY6curcX",
        "colab_type": "code",
        "colab": {
          "base_uri": "https://localhost:8080/",
          "height": 85
        },
        "outputId": "d14105cb-1cec-407f-ba02-ab4ebe6e9f2c"
      },
      "source": [
        "multi_line=\"\"\"a\n",
        "b\n",
        "c\n",
        "\"\"\"\n",
        "print(multi_line)"
      ],
      "execution_count": 8,
      "outputs": [
        {
          "output_type": "stream",
          "text": [
            "a\n",
            "b\n",
            "c\n",
            "\n"
          ],
          "name": "stdout"
        }
      ]
    },
    {
      "cell_type": "code",
      "metadata": {
        "id": "4nK7kIXKvDmt",
        "colab_type": "code",
        "colab": {
          "base_uri": "https://localhost:8080/",
          "height": 34
        },
        "outputId": "36a83231-dea6-4dcd-af6e-159da9538fdd"
      },
      "source": [
        "kcgi = \" the Kyoto College of Graduate studiesd for informatics\"\n",
        "kcgi.upper()"
      ],
      "execution_count": 9,
      "outputs": [
        {
          "output_type": "execute_result",
          "data": {
            "text/plain": [
              "' THE KYOTO COLLEGE OF GRADUATE STUDIESD FOR INFORMATICS'"
            ]
          },
          "metadata": {
            "tags": []
          },
          "execution_count": 9
        }
      ]
    },
    {
      "cell_type": "code",
      "metadata": {
        "id": "ygrJypuVvYOn",
        "colab_type": "code",
        "colab": {
          "base_uri": "https://localhost:8080/",
          "height": 34
        },
        "outputId": "8cc7f40f-1231-43bb-d6c7-0b4001ec132c"
      },
      "source": [
        "kcgi.lower()\n"
      ],
      "execution_count": 10,
      "outputs": [
        {
          "output_type": "execute_result",
          "data": {
            "text/plain": [
              "' the kyoto college of graduate studiesd for informatics'"
            ]
          },
          "metadata": {
            "tags": []
          },
          "execution_count": 10
        }
      ]
    },
    {
      "cell_type": "code",
      "metadata": {
        "id": "q6dm72GYvdyH",
        "colab_type": "code",
        "colab": {
          "base_uri": "https://localhost:8080/",
          "height": 34
        },
        "outputId": "c20b65bf-4dfe-489e-f070-0afbe422e902"
      },
      "source": [
        "kcgi.title()\n"
      ],
      "execution_count": 12,
      "outputs": [
        {
          "output_type": "execute_result",
          "data": {
            "text/plain": [
              "' The Kyoto College Of Graduate Studiesd For Informatics'"
            ]
          },
          "metadata": {
            "tags": []
          },
          "execution_count": 12
        }
      ]
    },
    {
      "cell_type": "code",
      "metadata": {
        "id": "RI4_08g-vl6g",
        "colab_type": "code",
        "colab": {
          "base_uri": "https://localhost:8080/",
          "height": 34
        },
        "outputId": "10b44613-a745-4dee-c135-dee7466ce0d3"
      },
      "source": [
        "kcgi.capitalize()"
      ],
      "execution_count": 13,
      "outputs": [
        {
          "output_type": "execute_result",
          "data": {
            "text/plain": [
              "' the kyoto college of graduate studiesd for informatics'"
            ]
          },
          "metadata": {
            "tags": []
          },
          "execution_count": 13
        }
      ]
    },
    {
      "cell_type": "code",
      "metadata": {
        "id": "_4kpeEoYvs4m",
        "colab_type": "code",
        "colab": {
          "base_uri": "https://localhost:8080/",
          "height": 34
        },
        "outputId": "5d2791c6-ec86-455b-88a8-4d61da788931"
      },
      "source": [
        "kcgi.swapcase()"
      ],
      "execution_count": 14,
      "outputs": [
        {
          "output_type": "execute_result",
          "data": {
            "text/plain": [
              "' THE kYOTO cOLLEGE OF gRADUATE STUDIESD FOR INFORMATICS'"
            ]
          },
          "metadata": {
            "tags": []
          },
          "execution_count": 14
        }
      ]
    },
    {
      "cell_type": "code",
      "metadata": {
        "id": "asPBdgDawY6x",
        "colab_type": "code",
        "colab": {
          "base_uri": "https://localhost:8080/",
          "height": 34
        },
        "outputId": "c2ff7f15-ddfc-4b61-dd1f-441f99d95d8a"
      },
      "source": [
        "num=\"00000456\"\n",
        "num.strip('0')"
      ],
      "execution_count": 15,
      "outputs": [
        {
          "output_type": "execute_result",
          "data": {
            "text/plain": [
              "'456'"
            ]
          },
          "metadata": {
            "tags": []
          },
          "execution_count": 15
        }
      ]
    },
    {
      "cell_type": "code",
      "metadata": {
        "id": "VNWo7Uivwkiu",
        "colab_type": "code",
        "colab": {
          "base_uri": "https://localhost:8080/",
          "height": 34
        },
        "outputId": "7a21e3d9-62b3-4725-a1aa-98bc477d6f6f"
      },
      "source": [
        "num.zfill(5)"
      ],
      "execution_count": 16,
      "outputs": [
        {
          "output_type": "execute_result",
          "data": {
            "text/plain": [
              "'00000456'"
            ]
          },
          "metadata": {
            "tags": []
          },
          "execution_count": 16
        }
      ]
    },
    {
      "cell_type": "code",
      "metadata": {
        "id": "drLbDEtQw6fE",
        "colab_type": "code",
        "colab": {
          "base_uri": "https://localhost:8080/",
          "height": 34
        },
        "outputId": "df5b0f79-b75d-41c9-ad66-9e4a36a71da6"
      },
      "source": [
        "kcg = \"  kyoto conpyuter gakuin\"\n",
        "kcg.strip()"
      ],
      "execution_count": 18,
      "outputs": [
        {
          "output_type": "execute_result",
          "data": {
            "text/plain": [
              "'kyoto conpyuter gakuin'"
            ]
          },
          "metadata": {
            "tags": []
          },
          "execution_count": 18
        }
      ]
    },
    {
      "cell_type": "code",
      "metadata": {
        "id": "atCdjFqWxQZH",
        "colab_type": "code",
        "colab": {
          "base_uri": "https://localhost:8080/",
          "height": 34
        },
        "outputId": "e5f74252-8599-40f6-e5fb-f6b749540f30"
      },
      "source": [
        "kcg.lstrip()"
      ],
      "execution_count": 19,
      "outputs": [
        {
          "output_type": "execute_result",
          "data": {
            "text/plain": [
              "'kyoto conpyuter gakuin'"
            ]
          },
          "metadata": {
            "tags": []
          },
          "execution_count": 19
        }
      ]
    },
    {
      "cell_type": "code",
      "metadata": {
        "id": "B1oSPEt2zveh",
        "colab_type": "code",
        "colab": {
          "base_uri": "https://localhost:8080/",
          "height": 34
        },
        "outputId": "2105be91-12f8-43f9-8073-88fed82ddeb6"
      },
      "source": [
        "kcgi = \"the kyoto college of graduate studies for imformatics\"\n",
        "kcgi.find(\"kyoto\") "
      ],
      "execution_count": 21,
      "outputs": [
        {
          "output_type": "execute_result",
          "data": {
            "text/plain": [
              "4"
            ]
          },
          "metadata": {
            "tags": []
          },
          "execution_count": 21
        }
      ]
    },
    {
      "cell_type": "code",
      "metadata": {
        "id": "fsu5A-Yk0MRi",
        "colab_type": "code",
        "colab": {
          "base_uri": "https://localhost:8080/",
          "height": 34
        },
        "outputId": "cbcac60c-6451-4465-f4c5-08f487a20e52"
      },
      "source": [
        "kcgi.index(\"kyoto\")"
      ],
      "execution_count": 22,
      "outputs": [
        {
          "output_type": "execute_result",
          "data": {
            "text/plain": [
              "4"
            ]
          },
          "metadata": {
            "tags": []
          },
          "execution_count": 22
        }
      ]
    },
    {
      "cell_type": "code",
      "metadata": {
        "id": "7eASVoK20RNo",
        "colab_type": "code",
        "colab": {
          "base_uri": "https://localhost:8080/",
          "height": 34
        },
        "outputId": "6032a651-78b7-475a-aa1a-04e00716dd42"
      },
      "source": [
        "kcgi.find(\"university\")"
      ],
      "execution_count": 23,
      "outputs": [
        {
          "output_type": "execute_result",
          "data": {
            "text/plain": [
              "-1"
            ]
          },
          "metadata": {
            "tags": []
          },
          "execution_count": 23
        }
      ]
    },
    {
      "cell_type": "code",
      "metadata": {
        "id": "Ssz2aqOA0gQ_",
        "colab_type": "code",
        "colab": {
          "base_uri": "https://localhost:8080/",
          "height": 168
        },
        "outputId": "2f7fbcaa-348a-47d5-f34d-80b9fb79df60"
      },
      "source": [
        "kcgi.index(\"university\")"
      ],
      "execution_count": 24,
      "outputs": [
        {
          "output_type": "error",
          "ename": "ValueError",
          "evalue": "ignored",
          "traceback": [
            "\u001b[0;31m---------------------------------------------------------------------------\u001b[0m",
            "\u001b[0;31mValueError\u001b[0m                                Traceback (most recent call last)",
            "\u001b[0;32m<ipython-input-24-73cf2f9e4433>\u001b[0m in \u001b[0;36m<module>\u001b[0;34m()\u001b[0m\n\u001b[0;32m----> 1\u001b[0;31m \u001b[0mkcgi\u001b[0m\u001b[0;34m.\u001b[0m\u001b[0mindex\u001b[0m\u001b[0;34m(\u001b[0m\u001b[0;34m\"university\"\u001b[0m\u001b[0;34m)\u001b[0m\u001b[0;34m\u001b[0m\u001b[0;34m\u001b[0m\u001b[0m\n\u001b[0m",
            "\u001b[0;31mValueError\u001b[0m: substring not found"
          ]
        }
      ]
    },
    {
      "cell_type": "code",
      "metadata": {
        "id": "qne1MMUP0mBo",
        "colab_type": "code",
        "colab": {
          "base_uri": "https://localhost:8080/",
          "height": 34
        },
        "outputId": "af4f6273-4c57-470a-8350-000ec11321e6"
      },
      "source": [
        "kcgi.endswith(\"informatics\")"
      ],
      "execution_count": 25,
      "outputs": [
        {
          "output_type": "execute_result",
          "data": {
            "text/plain": [
              "False"
            ]
          },
          "metadata": {
            "tags": []
          },
          "execution_count": 25
        }
      ]
    },
    {
      "cell_type": "code",
      "metadata": {
        "id": "PKuH08iP0yKw",
        "colab_type": "code",
        "colab": {
          "base_uri": "https://localhost:8080/",
          "height": 34
        },
        "outputId": "ff8a448e-05dc-409b-b2c0-7787b15c7610"
      },
      "source": [
        "kcgi.replace(\"e\", \"-\")"
      ],
      "execution_count": 26,
      "outputs": [
        {
          "output_type": "execute_result",
          "data": {
            "text/plain": [
              "'th- kyoto coll-g- of graduat- studi-s for imformatics'"
            ]
          },
          "metadata": {
            "tags": []
          },
          "execution_count": 26
        }
      ]
    },
    {
      "cell_type": "code",
      "metadata": {
        "id": "dUykcygn1MRF",
        "colab_type": "code",
        "colab": {
          "base_uri": "https://localhost:8080/",
          "height": 34
        },
        "outputId": "bd361bc7-2bac-499d-a6c6-d1dd7a089206"
      },
      "source": [
        "kcgi.partition(\"graduate\")"
      ],
      "execution_count": 27,
      "outputs": [
        {
          "output_type": "execute_result",
          "data": {
            "text/plain": [
              "('the kyoto college of ', 'graduate', ' studies for imformatics')"
            ]
          },
          "metadata": {
            "tags": []
          },
          "execution_count": 27
        }
      ]
    },
    {
      "cell_type": "code",
      "metadata": {
        "id": "Lzl0o3xp1VLT",
        "colab_type": "code",
        "colab": {
          "base_uri": "https://localhost:8080/",
          "height": 34
        },
        "outputId": "fd0dd9e6-3880-460a-fdf4-efc03aea6baf"
      },
      "source": [
        "kcgi.split()"
      ],
      "execution_count": 28,
      "outputs": [
        {
          "output_type": "execute_result",
          "data": {
            "text/plain": [
              "['the', 'kyoto', 'college', 'of', 'graduate', 'studies', 'for', 'imformatics']"
            ]
          },
          "metadata": {
            "tags": []
          },
          "execution_count": 28
        }
      ]
    },
    {
      "cell_type": "code",
      "metadata": {
        "id": "EaFNO8161dBY",
        "colab_type": "code",
        "colab": {
          "base_uri": "https://localhost:8080/",
          "height": 34
        },
        "outputId": "9be488f0-910d-4f25-c220-8d10ba9d1d99"
      },
      "source": [
        "string1 = \"-\"\n",
        "string2 = [\"a\", \"b\",\"c\"]\n",
        "string1.join(string2)"
      ],
      "execution_count": 29,
      "outputs": [
        {
          "output_type": "execute_result",
          "data": {
            "text/plain": [
              "'a-b-c'"
            ]
          },
          "metadata": {
            "tags": []
          },
          "execution_count": 29
        }
      ]
    },
    {
      "cell_type": "code",
      "metadata": {
        "id": "JpGhSlMP2AXB",
        "colab_type": "code",
        "colab": {
          "base_uri": "https://localhost:8080/",
          "height": 34
        },
        "outputId": "ba29294d-330a-4fa7-a41b-a644c0ccfde9"
      },
      "source": [
        "b=3\n",
        "str(b)\n",
        "print(\"em chao co a\".format(str(b)))"
      ],
      "execution_count": 32,
      "outputs": [
        {
          "output_type": "stream",
          "text": [
            "em chao co a\n"
          ],
          "name": "stdout"
        }
      ]
    }
  ]
}